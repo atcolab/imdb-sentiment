{
 "cells": [
  {
   "cell_type": "code",
   "execution_count": 20,
   "metadata": {
    "colab": {
     "base_uri": "https://localhost:8080/",
     "height": 255
    },
    "id": "UkaBC6PulljC",
    "outputId": "dc6df487-cb38-467c-f8cf-231578860bb6"
   },
   "outputs": [
    {
     "name": "stdout",
     "output_type": "stream",
     "text": [
      "The tensorboard extension is already loaded. To reload it, use:\n",
      "  %reload_ext tensorboard\n",
      "(50000, 2)\n"
     ]
    },
    {
     "data": {
      "text/html": [
       "<div>\n",
       "<style scoped>\n",
       "    .dataframe tbody tr th:only-of-type {\n",
       "        vertical-align: middle;\n",
       "    }\n",
       "\n",
       "    .dataframe tbody tr th {\n",
       "        vertical-align: top;\n",
       "    }\n",
       "\n",
       "    .dataframe thead th {\n",
       "        text-align: right;\n",
       "    }\n",
       "</style>\n",
       "<table border=\"1\" class=\"dataframe\">\n",
       "  <thead>\n",
       "    <tr style=\"text-align: right;\">\n",
       "      <th></th>\n",
       "      <th>review</th>\n",
       "      <th>sentiment</th>\n",
       "    </tr>\n",
       "  </thead>\n",
       "  <tbody>\n",
       "    <tr>\n",
       "      <th>0</th>\n",
       "      <td>One of the other reviewers has mentioned that ...</td>\n",
       "      <td>positive</td>\n",
       "    </tr>\n",
       "    <tr>\n",
       "      <th>1</th>\n",
       "      <td>A wonderful little production. &lt;br /&gt;&lt;br /&gt;The...</td>\n",
       "      <td>positive</td>\n",
       "    </tr>\n",
       "    <tr>\n",
       "      <th>2</th>\n",
       "      <td>I thought this was a wonderful way to spend ti...</td>\n",
       "      <td>positive</td>\n",
       "    </tr>\n",
       "    <tr>\n",
       "      <th>3</th>\n",
       "      <td>Basically there's a family where a little boy ...</td>\n",
       "      <td>negative</td>\n",
       "    </tr>\n",
       "    <tr>\n",
       "      <th>4</th>\n",
       "      <td>Petter Mattei's \"Love in the Time of Money\" is...</td>\n",
       "      <td>positive</td>\n",
       "    </tr>\n",
       "  </tbody>\n",
       "</table>\n",
       "</div>"
      ],
      "text/plain": [
       "                                              review sentiment\n",
       "0  One of the other reviewers has mentioned that ...  positive\n",
       "1  A wonderful little production. <br /><br />The...  positive\n",
       "2  I thought this was a wonderful way to spend ti...  positive\n",
       "3  Basically there's a family where a little boy ...  negative\n",
       "4  Petter Mattei's \"Love in the Time of Money\" is...  positive"
      ]
     },
     "execution_count": 20,
     "metadata": {
      "tags": []
     },
     "output_type": "execute_result"
    }
   ],
   "source": [
    "import os\n",
    "import numpy as np\n",
    "import pandas as pd\n",
    "\n",
    "import matplotlib.pyplot as plt\n",
    "from sklearn import metrics\n",
    "from sklearn import model_selection\n",
    "\n",
    "%load_ext tensorboard\n",
    "%tensorflow_version 2.x\n",
    "import tensorflow as tf\n",
    "\n",
    "import torch\n",
    "import torch.nn as nn\n",
    "from torch.utils.tensorboard import SummaryWriter\n",
    "\n",
    "df = pd.read_csv('./input/imdb_dataset.csv')\n",
    "\n",
    "print(df.shape)\n",
    "df.head()"
   ]
  },
  {
   "cell_type": "code",
   "execution_count": 21,
   "metadata": {
    "colab": {
     "base_uri": "https://localhost:8080/",
     "height": 204
    },
    "id": "TpBErjO_l8Py",
    "outputId": "31e4ad56-c1b2-4120-f00e-7c1a1d54a82b"
   },
   "outputs": [
    {
     "data": {
      "text/html": [
       "<div>\n",
       "<style scoped>\n",
       "    .dataframe tbody tr th:only-of-type {\n",
       "        vertical-align: middle;\n",
       "    }\n",
       "\n",
       "    .dataframe tbody tr th {\n",
       "        vertical-align: top;\n",
       "    }\n",
       "\n",
       "    .dataframe thead th {\n",
       "        text-align: right;\n",
       "    }\n",
       "</style>\n",
       "<table border=\"1\" class=\"dataframe\">\n",
       "  <thead>\n",
       "    <tr style=\"text-align: right;\">\n",
       "      <th></th>\n",
       "      <th>review</th>\n",
       "      <th>sentiment</th>\n",
       "    </tr>\n",
       "  </thead>\n",
       "  <tbody>\n",
       "    <tr>\n",
       "      <th>0</th>\n",
       "      <td>One of the other reviewers has mentioned that ...</td>\n",
       "      <td>1</td>\n",
       "    </tr>\n",
       "    <tr>\n",
       "      <th>1</th>\n",
       "      <td>A wonderful little production. &lt;br /&gt;&lt;br /&gt;The...</td>\n",
       "      <td>1</td>\n",
       "    </tr>\n",
       "    <tr>\n",
       "      <th>2</th>\n",
       "      <td>I thought this was a wonderful way to spend ti...</td>\n",
       "      <td>1</td>\n",
       "    </tr>\n",
       "    <tr>\n",
       "      <th>3</th>\n",
       "      <td>Basically there's a family where a little boy ...</td>\n",
       "      <td>0</td>\n",
       "    </tr>\n",
       "    <tr>\n",
       "      <th>4</th>\n",
       "      <td>Petter Mattei's \"Love in the Time of Money\" is...</td>\n",
       "      <td>1</td>\n",
       "    </tr>\n",
       "  </tbody>\n",
       "</table>\n",
       "</div>"
      ],
      "text/plain": [
       "                                              review  sentiment\n",
       "0  One of the other reviewers has mentioned that ...          1\n",
       "1  A wonderful little production. <br /><br />The...          1\n",
       "2  I thought this was a wonderful way to spend ti...          1\n",
       "3  Basically there's a family where a little boy ...          0\n",
       "4  Petter Mattei's \"Love in the Time of Money\" is...          1"
      ]
     },
     "execution_count": 21,
     "metadata": {
      "tags": []
     },
     "output_type": "execute_result"
    }
   ],
   "source": [
    "target_mapping = {'negative': 0, 'positive': 1}\n",
    "df['sentiment'] = df['sentiment'].map(target_mapping)\n",
    "df.head()"
   ]
  },
  {
   "cell_type": "code",
   "execution_count": 22,
   "metadata": {
    "colab": {
     "base_uri": "https://localhost:8080/",
     "height": 204
    },
    "id": "ThyBPHb-mJpm",
    "outputId": "25a02dd9-bb5a-4eb6-c169-e09fa6700c09"
   },
   "outputs": [
    {
     "data": {
      "text/html": [
       "<div>\n",
       "<style scoped>\n",
       "    .dataframe tbody tr th:only-of-type {\n",
       "        vertical-align: middle;\n",
       "    }\n",
       "\n",
       "    .dataframe tbody tr th {\n",
       "        vertical-align: top;\n",
       "    }\n",
       "\n",
       "    .dataframe thead th {\n",
       "        text-align: right;\n",
       "    }\n",
       "</style>\n",
       "<table border=\"1\" class=\"dataframe\">\n",
       "  <thead>\n",
       "    <tr style=\"text-align: right;\">\n",
       "      <th></th>\n",
       "      <th>review</th>\n",
       "      <th>sentiment</th>\n",
       "      <th>kfold</th>\n",
       "    </tr>\n",
       "  </thead>\n",
       "  <tbody>\n",
       "    <tr>\n",
       "      <th>0</th>\n",
       "      <td>I saw a trailer for this on Afro Promo, the co...</td>\n",
       "      <td>1</td>\n",
       "      <td>0</td>\n",
       "    </tr>\n",
       "    <tr>\n",
       "      <th>1</th>\n",
       "      <td>I, like many die-hard Trekkers (or Trekkies, i...</td>\n",
       "      <td>1</td>\n",
       "      <td>0</td>\n",
       "    </tr>\n",
       "    <tr>\n",
       "      <th>2</th>\n",
       "      <td>When a BBC murder thriller is this rife with h...</td>\n",
       "      <td>0</td>\n",
       "      <td>0</td>\n",
       "    </tr>\n",
       "    <tr>\n",
       "      <th>3</th>\n",
       "      <td>I think I truly love this film . \"Prix de Beau...</td>\n",
       "      <td>1</td>\n",
       "      <td>0</td>\n",
       "    </tr>\n",
       "    <tr>\n",
       "      <th>4</th>\n",
       "      <td>`The United States of Kiss My Ass'&lt;br /&gt;&lt;br /&gt;...</td>\n",
       "      <td>1</td>\n",
       "      <td>0</td>\n",
       "    </tr>\n",
       "  </tbody>\n",
       "</table>\n",
       "</div>"
      ],
      "text/plain": [
       "                                              review  sentiment  kfold\n",
       "0  I saw a trailer for this on Afro Promo, the co...          1      0\n",
       "1  I, like many die-hard Trekkers (or Trekkies, i...          1      0\n",
       "2  When a BBC murder thriller is this rife with h...          0      0\n",
       "3  I think I truly love this film . \"Prix de Beau...          1      0\n",
       "4  `The United States of Kiss My Ass'<br /><br />...          1      0"
      ]
     },
     "execution_count": 22,
     "metadata": {
      "tags": []
     },
     "output_type": "execute_result"
    }
   ],
   "source": [
    "df['kfold'] =  -1\n",
    "df = df.sample(frac=1).reset_index(drop=True)\n",
    "y = df['sentiment'].values\n",
    "kf = model_selection.StratifiedKFold(n_splits=5)\n",
    "\n",
    "for fold, (train_idx, valid_idx) in enumerate(kf.split(X=df, y=y)):\n",
    "  df.loc[valid_idx, 'kfold'] = fold\n",
    "\n",
    "df.head()"
   ]
  },
  {
   "cell_type": "code",
   "execution_count": 23,
   "metadata": {
    "id": "d-iUpB4UnKsu"
   },
   "outputs": [],
   "source": [
    "class IMDBDataset:\n",
    "  def __init__(self, reviews, targets):\n",
    "    self.reviews = reviews\n",
    "    self.targets = targets\n",
    "  \n",
    "  def __len__(self):\n",
    "    return len(self.reviews)\n",
    "  \n",
    "  def __getitem__(self, idx):\n",
    "    review = torch.tensor(self.reviews[idx,:], dtype=torch.long)\n",
    "    target = torch.tensor(self.targets[idx], dtype=torch.float)\n",
    "\n",
    "    return {'review': review, 'target': target}"
   ]
  },
  {
   "cell_type": "code",
   "execution_count": 24,
   "metadata": {
    "id": "amVRIsJVMhNd"
   },
   "outputs": [],
   "source": [
    "class LSTM(nn.Module):\n",
    "  def __init__(self, embedding_dim, vocab_size, lstm_hidden_dim, padding_idx=0):\n",
    "    super(LSTM, self).__init__()\n",
    "\n",
    "    self.embeddings = nn.Embedding(embedding_dim=embedding_dim, num_embeddings=vocab_size, padding_idx=padding_idx)\n",
    "\n",
    "    self.lstm = nn.LSTM(embedding_dim, lstm_hidden_dim, \n",
    "                        batch_first=True, bidirectional=True)\n",
    "    self.lstm2 = nn.LSTM(lstm_hidden_dim*2, lstm_hidden_dim, \n",
    "                         batch_first=True, bidirectional=True)\n",
    "\n",
    "    self.dropout = nn.Dropout(0.2)\n",
    "    self.fc1 = nn.Linear(lstm_hidden_dim*4, 512)\n",
    "    self.fc2 = nn.Linear(512, 1)\n",
    "\n",
    "  def forward(self, x):\n",
    "    x = self.embeddings(x)\n",
    "    out, _ = self.lstm(x)\n",
    "    out, _ = self.lstm2(out)\n",
    "\n",
    "    avg_pool= torch.mean(out, 1)\n",
    "    max_pool, index_max_pool = torch.max(out, 1)\n",
    "\n",
    "    z = torch.cat((avg_pool, max_pool), 1)\n",
    "\n",
    "    z = self.fc1(z)\n",
    "    z = self.dropout(z)\n",
    "    y_pred = self.fc2(z)\n",
    "\n",
    "    return y_pred"
   ]
  },
  {
   "cell_type": "code",
   "execution_count": 25,
   "metadata": {
    "colab": {
     "base_uri": "https://localhost:8080/"
    },
    "id": "-CXoPNI1qPHf",
    "outputId": "7270a720-67dd-4b03-95eb-7d5120f000fe"
   },
   "outputs": [
    {
     "name": "stdout",
     "output_type": "stream",
     "text": [
      "124253\n"
     ]
    }
   ],
   "source": [
    "tokenizer = tf.keras.preprocessing.text.Tokenizer()\n",
    "tokenizer.fit_on_texts(df.review.values.tolist())\n",
    "vocab_size = len(tokenizer.word_index) + 1\n",
    "print(vocab_size)"
   ]
  },
  {
   "cell_type": "code",
   "execution_count": 26,
   "metadata": {
    "id": "kpL0KpMepuZE"
   },
   "outputs": [],
   "source": [
    "def train_fn(model, loader, optimizer, loss_fn, device):\n",
    "  running_train_loss = 0.0\n",
    "  running_train_acc = 0.0\n",
    "\n",
    "  train_preds = []\n",
    "  train_targets = []\n",
    "\n",
    "  model.train()\n",
    "  for i, data in enumerate(loader):\n",
    "    reviews = data['review'].to(device, dtype=torch.long)\n",
    "    targets = data['target'].to(device, dtype=torch.float)\n",
    "\n",
    "    optimizer.zero_grad()\n",
    "    outputs = model(reviews)\n",
    "\n",
    "    loss = loss_fn(outputs, targets.view(-1, 1))\n",
    "    loss.backward()\n",
    "    optimizer.step()\n",
    "\n",
    "    preds = torch.sigmoid(outputs)\n",
    "    preds = np.asarray(preds.detach().cpu().numpy()) >= 0.5\n",
    "\n",
    "    train_preds.extend(preds.tolist())\n",
    "    train_targets.extend(targets.cpu().numpy().tolist())\n",
    "\n",
    "    accuracy = metrics.accuracy_score(train_targets, train_preds)\n",
    "\n",
    "    running_train_loss = loss.item() \n",
    "    running_train_acc = accuracy\n",
    "\n",
    "  return running_train_loss, running_train_acc\n",
    "\n",
    "def val_fn(model, loader, loss_fn, scheduler, epoch, device):\n",
    "  running_val_loss = 0.0\n",
    "  running_val_acc = 0.0\n",
    "\n",
    "  val_preds = []\n",
    "  val_targets = []\n",
    "\n",
    "  model.eval()\n",
    "  for i, data in enumerate(loader):\n",
    "    reviews = data['review'].to(device, dtype=torch.long)\n",
    "    targets = data['target'].to(device, dtype=torch.float)\n",
    "\n",
    "    outputs = model(reviews)\n",
    "\n",
    "    loss = loss_fn(outputs, targets.view(-1, 1))\n",
    "    preds = torch.sigmoid(outputs)\n",
    "    preds = np.asarray(preds.detach().cpu().numpy()) >= 0.5\n",
    "  \n",
    "    val_preds.extend(preds.tolist())\n",
    "    val_targets.extend(targets.cpu().numpy().tolist())\n",
    "\n",
    "    accuracy = metrics.accuracy_score(val_targets, val_preds)\n",
    "\n",
    "    running_val_loss = loss.item()\n",
    "    running_val_acc = accuracy\n",
    "\n",
    "  scheduler.step(epoch-1)\n",
    "    \n",
    "  return running_val_loss, running_val_acc, accuracy"
   ]
  },
  {
   "cell_type": "code",
   "execution_count": 27,
   "metadata": {
    "colab": {
     "base_uri": "https://localhost:8080/"
    },
    "id": "cDd9QFz2npqz",
    "outputId": "5bba6cf6-4c78-42f2-9715-7063aa614ade"
   },
   "outputs": [
    {
     "name": "stdout",
     "output_type": "stream",
     "text": [
      "FOLD: 1\n",
      "Epoch: 1 | train_loss: 0.25 | val_loss: 0.16 | accuracy_score: 0.8651\n",
      "Epoch: 2 | train_loss: 0.17 | val_loss: 0.12 | accuracy_score: 0.881\n",
      "Epoch: 3 | train_loss: 0.09 | val_loss: 0.08 | accuracy_score: 0.8778\n",
      "Epoch: 4 | train_loss: 0.06 | val_loss: 0.00 | accuracy_score: 0.8658\n",
      "Epoch: 5 | train_loss: 0.01 | val_loss: 0.00 | accuracy_score: 0.8685\n",
      "FOLD: 2\n",
      "Epoch: 1 | train_loss: 0.29 | val_loss: 0.22 | accuracy_score: 0.8626\n",
      "Epoch: 2 | train_loss: 0.27 | val_loss: 0.33 | accuracy_score: 0.871\n",
      "Epoch: 3 | train_loss: 0.22 | val_loss: 0.48 | accuracy_score: 0.8685\n",
      "Epoch: 4 | train_loss: 0.16 | val_loss: 0.36 | accuracy_score: 0.8804\n",
      "Epoch: 5 | train_loss: 0.02 | val_loss: 0.08 | accuracy_score: 0.8576\n",
      "FOLD: 3\n",
      "Epoch: 1 | train_loss: 0.26 | val_loss: 0.55 | accuracy_score: 0.8585\n",
      "Epoch: 2 | train_loss: 0.13 | val_loss: 0.54 | accuracy_score: 0.8747\n",
      "Epoch: 3 | train_loss: 0.06 | val_loss: 0.43 | accuracy_score: 0.8802\n",
      "Epoch: 4 | train_loss: 0.02 | val_loss: 0.29 | accuracy_score: 0.8523\n",
      "Epoch: 5 | train_loss: 0.00 | val_loss: 0.01 | accuracy_score: 0.8168\n",
      "FOLD: 4\n",
      "Epoch: 1 | train_loss: 0.26 | val_loss: 0.36 | accuracy_score: 0.8621\n",
      "Epoch: 2 | train_loss: 0.19 | val_loss: 0.25 | accuracy_score: 0.8704\n",
      "Epoch: 3 | train_loss: 0.11 | val_loss: 0.25 | accuracy_score: 0.8672\n",
      "Epoch: 4 | train_loss: 0.05 | val_loss: 1.61 | accuracy_score: 0.8468\n",
      "Epoch: 5 | train_loss: 0.02 | val_loss: 1.28 | accuracy_score: 0.8684\n",
      "FOLD: 5\n",
      "Epoch: 1 | train_loss: 0.45 | val_loss: 0.27 | accuracy_score: 0.8662\n",
      "Epoch: 2 | train_loss: 0.30 | val_loss: 0.21 | accuracy_score: 0.8772\n",
      "Epoch: 3 | train_loss: 0.14 | val_loss: 0.70 | accuracy_score: 0.8515\n",
      "Epoch: 4 | train_loss: 0.10 | val_loss: 0.77 | accuracy_score: 0.8655\n",
      "Epoch: 5 | train_loss: 0.10 | val_loss: 0.54 | accuracy_score: 0.8795\n"
     ]
    }
   ],
   "source": [
    "NUM_EPOCHS = 5\n",
    "EMBEDDING_DIM = 100\n",
    "RNN_HIDDEN_DIM = 128\n",
    "LSTM_HIDDEN_DIM = 128\n",
    "HIDDEN_DIM = 128\n",
    "\n",
    "loss_history={\n",
    "    \"train\": [],\n",
    "    \"val\": [],\n",
    "}\n",
    "\n",
    "metric_history={\n",
    "    \"train\": [],\n",
    "    \"val\": [],\n",
    "}\n",
    "\n",
    "for fold in range(5):\n",
    "  print(f\"FOLD: {fold+1}\")\n",
    "\n",
    "  train_df = df[df.kfold != fold].reset_index(drop=True)\n",
    "  valid_df = df[df.kfold == fold].reset_index(drop=True)\n",
    "\n",
    "  X_train = tokenizer.texts_to_sequences(train_df.review.values)\n",
    "  X_valid = tokenizer.texts_to_sequences(valid_df.review.values)\n",
    "\n",
    "  X_train = tf.keras.preprocessing.sequence.pad_sequences(X_train, maxlen=128)\n",
    "  X_valid = tf.keras.preprocessing.sequence.pad_sequences(X_valid, maxlen=128)\n",
    "\n",
    "  train_ds = IMDBDataset(X_train, train_df.sentiment.values)\n",
    "  valid_ds = IMDBDataset(X_valid, valid_df.sentiment.values)\n",
    "\n",
    "  train_loader = torch.utils.data.DataLoader(train_ds, batch_size=64, num_workers=4)\n",
    "  valid_loader = torch.utils.data.DataLoader(valid_ds, batch_size=64, num_workers=4)\n",
    "\n",
    "  device = torch.device('cuda')\n",
    "  model = LSTM(embedding_dim=EMBEDDING_DIM, \n",
    "               vocab_size=vocab_size, \n",
    "               lstm_hidden_dim=LSTM_HIDDEN_DIM).to(device)\n",
    "\n",
    "  loss_fn = nn.BCEWithLogitsLoss()\n",
    "  optimizer = torch.optim.Adam(model.parameters(), lr=1e-3)\n",
    "  scheduler = torch.optim.lr_scheduler.ReduceLROnPlateau(optimizer, mode='min', factor=0.1, patience=3)\n",
    "\n",
    "  for epoch in range(NUM_EPOCHS):\n",
    "    running_train_loss, running_train_acc = train_fn(model, train_loader, optimizer, loss_fn, device)\n",
    "\n",
    "    loss_history['train'].append(running_train_loss)\n",
    "    metric_history['train'].append(running_train_acc)\n",
    "\n",
    "    running_val_loss, running_val_acc, accuracy = val_fn(model, valid_loader, loss_fn, scheduler, epoch, device)\n",
    "\n",
    "    loss_history['val'].append(running_val_loss)\n",
    "    metric_history['val'].append(running_val_acc)\n",
    "\n",
    "    print(f'Epoch: {epoch+1} | train_loss: {running_train_loss:.2f} | val_loss: {running_val_loss:.2f} | accuracy_score: {accuracy}')"
   ]
  }
 ],
 "metadata": {
  "accelerator": "GPU",
  "colab": {
   "collapsed_sections": [],
   "machine_shape": "hm",
   "name": "Copy of imdb sentiment analysis no pretrained example.ipynb",
   "provenance": []
  },
  "kernelspec": {
   "display_name": "Python 3",
   "language": "python",
   "name": "python3"
  },
  "language_info": {
   "codemirror_mode": {
    "name": "ipython",
    "version": 3
   },
   "file_extension": ".py",
   "mimetype": "text/x-python",
   "name": "python",
   "nbconvert_exporter": "python",
   "pygments_lexer": "ipython3",
   "version": "3.7.4"
  }
 },
 "nbformat": 4,
 "nbformat_minor": 2
}
